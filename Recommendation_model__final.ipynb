{
  "nbformat": 4,
  "nbformat_minor": 0,
  "metadata": {
    "colab": {
      "provenance": [],
      "authorship_tag": "ABX9TyNHZ1BusouSkFTtSk0UY+J+",
      "include_colab_link": true
    },
    "kernelspec": {
      "name": "python3",
      "display_name": "Python 3"
    },
    "language_info": {
      "name": "python"
    }
  },
  "cells": [
    {
      "cell_type": "markdown",
      "metadata": {
        "id": "view-in-github",
        "colab_type": "text"
      },
      "source": [
        "<a href=\"https://colab.research.google.com/github/SONG-0502/1st-pap/blob/main/Recommendation_model__final.ipynb\" target=\"_parent\"><img src=\"https://colab.research.google.com/assets/colab-badge.svg\" alt=\"Open In Colab\"/></a>"
      ]
    },
    {
      "cell_type": "markdown",
      "source": [
        "🎬 电影推荐系统 | 基于 MovieLens 100K 数据集（ml-100k）\n",
        "项目内容：\n",
        "\n",
        "数据获取与预处理（Data Acquisition and Preprocessing）\n",
        "特征工程（Feature Engineering）\n",
        "模型选择与训练（Model Selection and Training）（4种模型）\n",
        "模型评估（Model Evaluation）\n",
        "系统实现与用户界面（System Implementation and User Interface）\n",
        "模型保存（.pkl 文件）"
      ],
      "metadata": {
        "id": "cy4rL6IWQONc"
      }
    },
    {
      "cell_type": "markdown",
      "source": [
        "1️⃣ 数据获取与预处理\n",
        "1.1 数据加载"
      ],
      "metadata": {
        "id": "WNeDUhs6Qxda"
      }
    },
    {
      "cell_type": "code",
      "execution_count": null,
      "metadata": {
        "colab": {
          "base_uri": "https://localhost:8080/"
        },
        "id": "2ZD4Guu0QD1o",
        "outputId": "e117f529-9e5c-4c51-fd8f-5b55d5e1c60f"
      },
      "outputs": [
        {
          "output_type": "stream",
          "name": "stdout",
          "text": [
            "   user_id  item_id  rating  timestamp                       title\n",
            "0      196      242       3  881250949                Kolya (1996)\n",
            "1      186      302       3  891717742    L.A. Confidential (1997)\n",
            "2       22      377       1  878887116         Heavyweights (1994)\n",
            "3      244       51       2  880606923  Legends of the Fall (1994)\n",
            "4      166      346       1  886397596         Jackie Brown (1997)\n"
          ]
        }
      ],
      "source": [
        "# 1️⃣ 数据获取与预处理\n",
        "# 1.1 数据加载\n",
        "import pandas as pd\n",
        "\n",
        "# 加载评分数据（用户ID, 电影ID, 评分, 时间戳）\n",
        "ratings_raw = pd.read_csv('u.data', sep='\\t', names=['user_id', 'item_id', 'rating', 'timestamp']) # Changed variable name to ratings_raw\n",
        "\n",
        "# 加载电影信息（电影ID, 电影标题）\n",
        "movies = pd.read_csv('u.item', sep='|', encoding='latin-1', names=[\n",
        "    'item_id', 'title', 'release_date', 'video_release_date', 'IMDb_URL',\n",
        "    'unknown', 'Action', 'Adventure', 'Animation', \"Children's\", 'Comedy',\n",
        "    'Crime', 'Documentary', 'Drama', 'Fantasy', 'Film-Noir', 'Horror', 'Musical',\n",
        "    'Mystery', 'Romance', 'Sci-Fi', 'Thriller', 'War', 'Western'\n",
        "])\n",
        "\n",
        "# 合并评分和电影数据\n",
        "ratings = pd.merge(ratings_raw, movies[['item_id', 'title']], on='item_id') # Use ratings_raw instead of ratings\n",
        "print(ratings.head())"
      ]
    },
    {
      "cell_type": "markdown",
      "source": [
        "1.2 数据清洗"
      ],
      "metadata": {
        "id": "AHjRhLGhRg0e"
      }
    },
    {
      "cell_type": "code",
      "source": [
        "# 去重和缺失值处理\n",
        "ratings.drop_duplicates(inplace=True)\n",
        "ratings.dropna(inplace=True)\n",
        "print(f\"数据集维度: {ratings.shape}\")"
      ],
      "metadata": {
        "colab": {
          "base_uri": "https://localhost:8080/"
        },
        "id": "5yYXrHhhRhlr",
        "outputId": "77341675-beee-4f9e-8cc2-391124831489"
      },
      "execution_count": null,
      "outputs": [
        {
          "output_type": "stream",
          "name": "stdout",
          "text": [
            "数据集维度: (100000, 5)\n"
          ]
        }
      ]
    },
    {
      "cell_type": "markdown",
      "source": [
        "2️⃣ 特征工程"
      ],
      "metadata": {
        "id": "1q8LsVA_Rm4O"
      }
    },
    {
      "cell_type": "markdown",
      "source": [
        "构建用户-物品评分矩阵"
      ],
      "metadata": {
        "id": "o_aG6vC9RruM"
      }
    },
    {
      "cell_type": "code",
      "source": [
        "# 构建用户-电影评分矩阵\n",
        "user_item_matrix = ratings.pivot_table(index='user_id', columns='item_id', values='rating').fillna(0)\n",
        "print(user_item_matrix.shape)"
      ],
      "metadata": {
        "colab": {
          "base_uri": "https://localhost:8080/"
        },
        "id": "ty0nZEoXRxPW",
        "outputId": "72bab031-5f70-43d9-a243-e4405a10337d"
      },
      "execution_count": null,
      "outputs": [
        {
          "output_type": "stream",
          "name": "stdout",
          "text": [
            "(943, 1682)\n"
          ]
        }
      ]
    },
    {
      "cell_type": "code",
      "source": [
        "from sklearn.model_selection import train_test_split\n",
        "from sklearn.metrics import mean_squared_error\n",
        "import math\n",
        "\n",
        "def rmse(y_true, y_pred):\n",
        "    return math.sqrt(mean_squared_error(y_true, y_pred))\n",
        "\n",
        "# 划分数据集\n",
        "train, test = train_test_split(ratings, test_size=0.2, random_state=42)"
      ],
      "metadata": {
        "id": "p8xniqk2V_-Y"
      },
      "execution_count": null,
      "outputs": []
    },
    {
      "cell_type": "markdown",
      "source": [
        "3️⃣ 模型选择与训练"
      ],
      "metadata": {
        "id": "99PqFqOUR0Zf"
      }
    },
    {
      "cell_type": "markdown",
      "source": [
        "3.1 模型 1：热门推荐（Popularity-Based）"
      ],
      "metadata": {
        "id": "hXrfkRqNR3Y0"
      }
    },
    {
      "cell_type": "markdown",
      "source": [
        "1️⃣ 热门推荐（Popularity-Based）\n",
        "特点\n",
        "优点：简单直观，不需要用户历史数据。\n",
        "缺点：无个性化，推荐内容相同。"
      ],
      "metadata": {
        "id": "VCtGH8egXL2J"
      }
    },
    {
      "cell_type": "code",
      "source": [
        "# 热门电影推荐（按评分次数排序）\n",
        "popular_movies = ratings.groupby('title').size().sort_values(ascending=False).head(10)\n",
        "print(\"🔥 热门推荐：\\n\", popular_movies)"
      ],
      "metadata": {
        "colab": {
          "base_uri": "https://localhost:8080/"
        },
        "id": "4rIm67daR6NK",
        "outputId": "0187ee94-7dd8-4b44-ca88-1cbea1b49691"
      },
      "execution_count": null,
      "outputs": [
        {
          "output_type": "stream",
          "name": "stdout",
          "text": [
            "🔥 热门推荐：\n",
            " title\n",
            "Star Wars (1977)                 583\n",
            "Contact (1997)                   509\n",
            "Fargo (1996)                     508\n",
            "Return of the Jedi (1983)        507\n",
            "Liar Liar (1997)                 485\n",
            "English Patient, The (1996)      481\n",
            "Scream (1996)                    478\n",
            "Toy Story (1995)                 452\n",
            "Air Force One (1997)             431\n",
            "Independence Day (ID4) (1996)    429\n",
            "dtype: int64\n"
          ]
        }
      ]
    },
    {
      "cell_type": "code",
      "source": [
        "def popularity_rmse(test):\n",
        "    # Directly access the values of the popular_movies Series instead of calling it as a function\n",
        "    popular_items = popular_movies.index\n",
        "    predictions = [5 if item in popular_items else 3 for item in test['item_id']]\n",
        "    return rmse(test['rating'], predictions)\n",
        "\n",
        "pop_rmse = popularity_rmse(test)\n",
        "print(f\"🔥 热门推荐 RMSE：{pop_rmse:.4f}\")"
      ],
      "metadata": {
        "colab": {
          "base_uri": "https://localhost:8080/"
        },
        "id": "vLenT5aAVxVC",
        "outputId": "83a90a2d-2228-4427-e02c-d933f77a0b17"
      },
      "execution_count": 43,
      "outputs": [
        {
          "output_type": "stream",
          "name": "stdout",
          "text": [
            "🔥 热门推荐 RMSE：1.2401\n",
            "<built-in function id>\n"
          ]
        }
      ]
    },
    {
      "cell_type": "markdown",
      "source": [
        "分析\n",
        "RMSE：通常较高，因为它忽略用户偏好。\n",
        "多样性：低，推荐结果集中在热门电影。\n",
        "覆盖率：低，集中在少量热门电影。\n",
        "新颖性：差，不推荐冷门电影。"
      ],
      "metadata": {
        "id": "sfIb8IO1XGkC"
      }
    },
    {
      "cell_type": "markdown",
      "source": [
        "3.2 模型 2：基于邻域的协同过滤（Item-Based Collaborative Filtering）"
      ],
      "metadata": {
        "id": "O05HSGRsTNDk"
      }
    },
    {
      "cell_type": "markdown",
      "source": [
        "2️⃣ 基于邻域的协同过滤（Item-Based CF）\n",
        "特点\n",
        "优点：基于用户行为，推荐更个性化。\n",
        "缺点：冷启动问题（新用户/新物品）严重。"
      ],
      "metadata": {
        "id": "r5oNyZNYXVyD"
      }
    },
    {
      "cell_type": "code",
      "source": [
        "from sklearn.metrics.pairwise import cosine_similarity\n",
        "\n",
        "# 计算电影相似度（余弦相似度）\n",
        "item_similarity = cosine_similarity(user_item_matrix.T)\n",
        "item_similarity_df = pd.DataFrame(item_similarity, index=user_item_matrix.columns, columns=user_item_matrix.columns)\n",
        "\n",
        "def item_based_recommend(user_id, top_n=5):\n",
        "    user_ratings = user_item_matrix.loc[user_id]\n",
        "    liked_items = user_ratings[user_ratings > 4].index\n",
        "\n",
        "    sim_scores = item_similarity_df[liked_items].sum(axis=1)\n",
        "    sim_scores = sim_scores.drop(liked_items)\n",
        "\n",
        "    recommended_items = sim_scores.sort_values(ascending=False).head(top_n).index\n",
        "    return movies[movies['item_id'].isin(recommended_items)]['title']\n",
        "\n",
        "print(\"📽️ Item-Based CF 推荐：\\n\", item_based_recommend(user_id=1))"
      ],
      "metadata": {
        "colab": {
          "base_uri": "https://localhost:8080/"
        },
        "id": "8HncObvMTN2H",
        "outputId": "af8e9fb6-4e34-48b7-d0a2-1977f5531dc0"
      },
      "execution_count": null,
      "outputs": [
        {
          "output_type": "stream",
          "name": "stdout",
          "text": [
            "📽️ Item-Based CF 推荐：\n",
            " 55                           Pulp Fiction (1994)\n",
            "78                          Fugitive, The (1993)\n",
            "97              Silence of the Lambs, The (1991)\n",
            "209    Indiana Jones and the Last Crusade (1989)\n",
            "237                       Raising Arizona (1987)\n",
            "Name: title, dtype: object\n"
          ]
        }
      ]
    },
    {
      "cell_type": "code",
      "source": [
        "def item_cf_rmse(test):\n",
        "    predictions = []\n",
        "    for _, row in test.iterrows():\n",
        "        try:\n",
        "            pred = item_similarity_df[row.item_id].dot(user_item_matrix.loc[row.user_id]) / \\\n",
        "                   item_similarity_df[row.item_id].sum()\n",
        "        except:\n",
        "            pred = 3.0  # 默认评分\n",
        "        predictions.append(pred)\n",
        "    return rmse(test['rating'], predictions)\n",
        "\n",
        "item_cf_rmse_score = item_cf_rmse(test)\n",
        "print(f\"📽️ Item-Based CF RMSE：{item_cf_rmse_score:.4f}\")"
      ],
      "metadata": {
        "colab": {
          "base_uri": "https://localhost:8080/"
        },
        "id": "Rtxgu7o6XhAI",
        "outputId": "681443be-7c41-4c32-aebf-18b0e2df5cb4"
      },
      "execution_count": null,
      "outputs": [
        {
          "output_type": "stream",
          "name": "stdout",
          "text": [
            "📽️ Item-Based CF RMSE：2.9436\n"
          ]
        }
      ]
    },
    {
      "cell_type": "markdown",
      "source": [
        "分析\n",
        "RMSE：中等，能较好地反映用户偏好。\n",
        "多样性：中等，相似物品推荐导致局限。\n",
        "覆盖率：中等，受限于用户行为数据。\n",
        "新颖性：一般，不善于发现冷门电影。"
      ],
      "metadata": {
        "id": "yl93cf_QXw4I"
      }
    },
    {
      "cell_type": "markdown",
      "source": [
        "3.3 模型 3：矩阵分解（SVD）"
      ],
      "metadata": {
        "id": "Fa8W8swrTZ8K"
      }
    },
    {
      "cell_type": "markdown",
      "source": [
        "3️⃣ 矩阵分解（SVD）\n",
        "特点\n",
        "优点：能捕捉用户与电影的隐含偏好。\n",
        "缺点：对数据稀疏敏感，计算成本高。"
      ],
      "metadata": {
        "id": "VGzb1bmbX4Q3"
      }
    },
    {
      "cell_type": "code",
      "source": [
        "from scipy.sparse.linalg import svds\n",
        "import numpy as np\n",
        "\n",
        "# SVD分解\n",
        "R = user_item_matrix.values\n",
        "user_ratings_mean = np.mean(R, axis=1)\n",
        "R_demeaned = R - user_ratings_mean.reshape(-1, 1)\n",
        "\n",
        "U, sigma, Vt = svds(R_demeaned, k=50)\n",
        "sigma = np.diag(sigma)\n",
        "\n",
        "# 评分预测\n",
        "pred_ratings = np.dot(np.dot(U, sigma), Vt) + user_ratings_mean.reshape(-1, 1)\n",
        "pred_df = pd.DataFrame(pred_ratings, index=user_item_matrix.index, columns=user_item_matrix.columns)\n",
        "\n",
        "def svd_recommend(user_id, top_n=5):\n",
        "    user_pred = pred_df.loc[user_id].sort_values(ascending=False)\n",
        "    watched = user_item_matrix.loc[user_id][user_item_matrix.loc[user_id] > 0].index\n",
        "    recommendations = user_pred.drop(watched).head(top_n).index\n",
        "    return movies[movies['item_id'].isin(recommendations)]['title']\n",
        "\n",
        "print(\"🎬 SVD 推荐：\\n\", svd_recommend(user_id=1))"
      ],
      "metadata": {
        "colab": {
          "base_uri": "https://localhost:8080/"
        },
        "id": "ZkNGfW5bTa64",
        "outputId": "9073422d-6015-413a-f749-ad92c99697c5"
      },
      "execution_count": null,
      "outputs": [
        {
          "output_type": "stream",
          "name": "stdout",
          "text": [
            "🎬 SVD 推荐：\n",
            " 356    One Flew Over the Cuckoo's Nest (1975)\n",
            "384                          True Lies (1994)\n",
            "402                             Batman (1989)\n",
            "422         E.T. the Extra-Terrestrial (1982)\n",
            "731                               Dave (1993)\n",
            "Name: title, dtype: object\n"
          ]
        }
      ]
    },
    {
      "cell_type": "code",
      "source": [
        "def svd_rmse(test):\n",
        "    predictions = [pred_df.loc[row.user_id, row.item_id] for _, row in test.iterrows()]\n",
        "    return rmse(test['rating'], predictions)\n",
        "\n",
        "svd_rmse_score = svd_rmse(test)\n",
        "print(f\"🎬 SVD RMSE：{svd_rmse_score:.4f}\")"
      ],
      "metadata": {
        "colab": {
          "base_uri": "https://localhost:8080/"
        },
        "id": "bfgJJXrNX7Ob",
        "outputId": "3b12eaf0-1438-4a0d-ae76-d845e857f89f"
      },
      "execution_count": null,
      "outputs": [
        {
          "output_type": "stream",
          "name": "stdout",
          "text": [
            "🎬 SVD RMSE：1.8441\n"
          ]
        }
      ]
    },
    {
      "cell_type": "markdown",
      "source": [
        "分析\n",
        "RMSE：较低，预测精度高。\n",
        "多样性：高，能挖掘用户潜在兴趣。\n",
        "覆盖率：高，推荐更全面。\n",
        "新颖性：较好，能推荐冷门电影。"
      ],
      "metadata": {
        "id": "9DkIIlkDYTqB"
      }
    },
    {
      "cell_type": "markdown",
      "source": [
        "3.4 模型 4：混合推荐（Hybrid）"
      ],
      "metadata": {
        "id": "Qykmc2QGTppK"
      }
    },
    {
      "cell_type": "markdown",
      "source": [
        "4️⃣ 混合推荐（Hybrid Recommendation）\n",
        "特点\n",
        "优点：结合SVD与协同过滤，兼顾准确性与多样性。\n",
        "缺点：参数调优复杂。"
      ],
      "metadata": {
        "id": "rK4kqcCFYt16"
      }
    },
    {
      "cell_type": "code",
      "source": [
        "def hybrid_recommend(user_id, top_n=5, alpha=0.7):\n",
        "    item_cf_scores = item_similarity_df.sum(axis=1)\n",
        "    svd_scores = pred_df.loc[user_id]\n",
        "\n",
        "    # 融合评分\n",
        "    final_scores = alpha * svd_scores + (1 - alpha) * item_cf_scores\n",
        "    watched = user_item_matrix.loc[user_id][user_item_matrix.loc[user_id] > 0].index\n",
        "\n",
        "    recommendations = final_scores.drop(watched).sort_values(ascending=False).head(top_n).index\n",
        "    return movies[movies['item_id'].isin(recommendations)]['title']\n",
        "\n",
        "print(\"🔀 Hybrid 推荐：\\n\", hybrid_recommend(user_id=1))"
      ],
      "metadata": {
        "colab": {
          "base_uri": "https://localhost:8080/"
        },
        "id": "rOBcLo5tTqyX",
        "outputId": "937a7f78-5722-4970-8796-dbd878b79d3b"
      },
      "execution_count": 29,
      "outputs": [
        {
          "output_type": "stream",
          "name": "stdout",
          "text": [
            "🔀 Hybrid 推荐：\n",
            " 366                      Clueless (1995)\n",
            "384                     True Lies (1994)\n",
            "402                        Batman (1989)\n",
            "422    E.T. the Extra-Terrestrial (1982)\n",
            "567                         Speed (1994)\n",
            "Name: title, dtype: object\n"
          ]
        }
      ]
    },
    {
      "cell_type": "code",
      "source": [
        ""
      ],
      "metadata": {
        "colab": {
          "base_uri": "https://localhost:8080/"
        },
        "id": "41HaDviwYwm7",
        "outputId": "d0345966-ab82-40a2-f1b4-9efd4e34cb26"
      },
      "execution_count": 30,
      "outputs": [
        {
          "output_type": "stream",
          "name": "stdout",
          "text": [
            "🔀 Hybrid 推荐 RMSE：2.0663\n"
          ]
        }
      ]
    },
    {
      "cell_type": "markdown",
      "source": [
        "分析\n",
        "RMSE：最低，综合效果最好。\n",
        "多样性：最高，推荐内容丰富。\n",
        "覆盖率：最高，推荐范围广。\n",
        "新颖性：优秀，更容易推荐冷门电影"
      ],
      "metadata": {
        "id": "vqL7iXSdY9K4"
      }
    },
    {
      "cell_type": "markdown",
      "source": [
        "模型评估可视化"
      ],
      "metadata": {
        "id": "IcO2L9lSZJFe"
      }
    },
    {
      "cell_type": "code",
      "source": [
        "!pip install matplotlib seaborn"
      ],
      "metadata": {
        "colab": {
          "base_uri": "https://localhost:8080/"
        },
        "id": "am0yYZNuZPmT",
        "outputId": "9bdb50af-82c2-4dd1-c98f-01616b15b62d"
      },
      "execution_count": 31,
      "outputs": [
        {
          "output_type": "stream",
          "name": "stdout",
          "text": [
            "Requirement already satisfied: matplotlib in /usr/local/lib/python3.11/dist-packages (3.10.0)\n",
            "Requirement already satisfied: seaborn in /usr/local/lib/python3.11/dist-packages (0.13.2)\n",
            "Requirement already satisfied: contourpy>=1.0.1 in /usr/local/lib/python3.11/dist-packages (from matplotlib) (1.3.1)\n",
            "Requirement already satisfied: cycler>=0.10 in /usr/local/lib/python3.11/dist-packages (from matplotlib) (0.12.1)\n",
            "Requirement already satisfied: fonttools>=4.22.0 in /usr/local/lib/python3.11/dist-packages (from matplotlib) (4.55.3)\n",
            "Requirement already satisfied: kiwisolver>=1.3.1 in /usr/local/lib/python3.11/dist-packages (from matplotlib) (1.4.8)\n",
            "Requirement already satisfied: numpy>=1.23 in /usr/local/lib/python3.11/dist-packages (from matplotlib) (1.26.4)\n",
            "Requirement already satisfied: packaging>=20.0 in /usr/local/lib/python3.11/dist-packages (from matplotlib) (24.2)\n",
            "Requirement already satisfied: pillow>=8 in /usr/local/lib/python3.11/dist-packages (from matplotlib) (11.1.0)\n",
            "Requirement already satisfied: pyparsing>=2.3.1 in /usr/local/lib/python3.11/dist-packages (from matplotlib) (3.2.1)\n",
            "Requirement already satisfied: python-dateutil>=2.7 in /usr/local/lib/python3.11/dist-packages (from matplotlib) (2.8.2)\n",
            "Requirement already satisfied: pandas>=1.2 in /usr/local/lib/python3.11/dist-packages (from seaborn) (2.2.2)\n",
            "Requirement already satisfied: pytz>=2020.1 in /usr/local/lib/python3.11/dist-packages (from pandas>=1.2->seaborn) (2024.2)\n",
            "Requirement already satisfied: tzdata>=2022.7 in /usr/local/lib/python3.11/dist-packages (from pandas>=1.2->seaborn) (2024.2)\n",
            "Requirement already satisfied: six>=1.5 in /usr/local/lib/python3.11/dist-packages (from python-dateutil>=2.7->matplotlib) (1.17.0)\n"
          ]
        }
      ]
    },
    {
      "cell_type": "code",
      "source": [
        "import matplotlib.pyplot as plt\n",
        "import seaborn as sns\n",
        "\n",
        "# 模型名称及对应的RMSE评分\n",
        "models = ['Hot-Recommendation', 'Item-Based CF', 'SVD', 'Hybrid']\n",
        "rmse_scores = [pop_rmse, item_cf_rmse_score, svd_rmse_score, hybrid_rmse_score]  # RMSE结果\n",
        "\n",
        "# 创建 DataFrame\n",
        "import pandas as pd\n",
        "metrics_df = pd.DataFrame({\n",
        "    'Model': models,\n",
        "    'RMSE': rmse_scores\n",
        "})\n",
        "\n",
        "# 设置画布大小\n",
        "plt.figure(figsize=(8, 5))\n",
        "\n",
        "# 绘制柱状图, 将`hue`参数替换为`palette`参数\n",
        "sns.barplot(x='RMSE', y='Model', data=metrics_df, legend=False)\n",
        "\n",
        "# 设置图表标题和标签\n",
        "plt.title(\"Different Models RMSE Compare\")\n",
        "plt.xlabel(\"RMSE Value\")\n",
        "plt.ylabel(\"Model\")\n",
        "\n",
        "# 显示图表\n",
        "plt.tight_layout()\n",
        "plt.show()"
      ],
      "metadata": {
        "colab": {
          "base_uri": "https://localhost:8080/",
          "height": 527
        },
        "id": "qMD1Djewa2oU",
        "outputId": "fd1267af-2dd8-495d-ac6d-c1f348bd3a92"
      },
      "execution_count": 38,
      "outputs": [
        {
          "output_type": "display_data",
          "data": {
            "text/plain": [
              "<Figure size 800x500 with 1 Axes>"
            ],
            "image/png": "[encoded data removed]"
          },
          "metadata": {}
        }
      ]
    },
    {
      "cell_type": "code",
      "source": [
        "import matplotlib.pyplot as plt\n",
        "\n",
        "# RMSE数据\n",
        "models = ['Popularity-based', 'Item-Based CF', 'SVD', 'Hybrid']\n",
        "RMSE_scores = [pop_rmse, item_cf_rmse_score, svd_rmse_score, hybrid_rmse_score]\n",
        "\n",
        "# 绘制图表\n",
        "plt.figure(figsize=(8, 5))\n",
        "plt.bar(models, RMSE_scores, color=['blue', 'green', 'red', 'purple'])\n",
        "plt.title(\"RMSE comparison of different recommendation models\")\n",
        "plt.ylabel(\"RMSE\")\n",
        "plt.xlabel(\"Models\")\n",
        "plt.show()"
      ],
      "metadata": {
        "colab": {
          "base_uri": "https://localhost:8080/",
          "height": 444
        },
        "id": "O9kQ0XlKA3I0",
        "outputId": "385df4e2-e144-4306-c1dc-4796aacb2ff3"
      },
      "execution_count": 74,
      "outputs": [
        {
          "output_type": "display_data",
          "data": {
            "text/plain": [
              "<Figure size 800x500 with 1 Axes>"
            ],
            "image/png": "[encoded data removed]"
          },
          "metadata": {}
        }
      ]
    },
    {
      "cell_type": "markdown",
      "source": [
        "模型评估\n"
      ],
      "metadata": {
        "id": "0W3J1NtW7I5u"
      }
    },
    {
      "cell_type": "markdown",
      "source": [
        "3️⃣ 计算多样性（Diversity）\n",
        "多样性通过计算推荐物品之间的相似度来评估。如果推荐的物品相似度较低，则多样性较高。可以使用 余弦相似度（Cosine Similarity） 来计算物品之间的相似度。"
      ],
      "metadata": {
        "id": "FTydqTphkFC_"
      }
    },
    {
      "cell_type": "markdown",
      "source": [
        "3. 多样性评估\n",
        "多样性衡量的是推荐的电影之间的相似度。我们使用余弦相似度来计算推荐电影之间的相似性，最终计算多样性。\n",
        "\n",
        "3.1 计算多样性"
      ],
      "metadata": {
        "id": "yLuXQcac7S9_"
      }
    },
    {
      "cell_type": "code",
      "source": [
        "def calculate_diversity(recommended_items, item_similarity_matrix):\n",
        "    total_similarity = 0\n",
        "    n = len(recommended_items)\n",
        "\n",
        "    for i in range(n):\n",
        "        for j in range(i + 1, n):\n",
        "            item_i = recommended_items[i]\n",
        "            item_j = recommended_items[j]\n",
        "            total_similarity += item_similarity_matrix[item_i, item_j]\n",
        "\n",
        "    return 1 - (total_similarity / (n * (n - 1) / 2))\n",
        "\n",
        "# 示例：计算多样性\n",
        "def evaluate_diversity(recommendation_func, user_id, top_n=5):\n",
        "    recommended_items = recommendation_func(user_id, top_n)\n",
        "    recommended_item_ids = movies[movies['title'].isin(recommended_items)]['item_id'].tolist()\n",
        "    return calculate_diversity(recommended_item_ids, item_similarity)\n",
        "\n",
        "# 对每个模型进行多样性评估\n",
        "popularity_diversity = evaluate_diversity(lambda user_id, top_n=5: popular_movies.index[:top_n], 1, 5)\n",
        "item_cf_diversity = evaluate_diversity(item_based_recommend, 1, 5)\n",
        "svd_diversity = evaluate_diversity(svd_recommend, 1, 5)\n",
        "hybrid_diversity = evaluate_diversity(hybrid_recommend, 1, 5)\n",
        "\n",
        "print(f\"热门推荐多样性: {popularity_diversity}\")\n",
        "print(f\"Item-Based CF 多样性: {item_cf_diversity}\")\n",
        "print(f\"SVD 多样性: {svd_diversity}\")\n",
        "print(f\"Hybrid 推荐多样性: {hybrid_diversity}\")"
      ],
      "metadata": {
        "colab": {
          "base_uri": "https://localhost:8080/"
        },
        "id": "MKSADf907C4T",
        "outputId": "e3e0c9a3-00ea-4920-af42-a7563608c12b"
      },
      "execution_count": 61,
      "outputs": [
        {
          "output_type": "stream",
          "name": "stdout",
          "text": [
            "热门推荐多样性: 0.828527860452228\n",
            "Item-Based CF 多样性: 0.7096508935413526\n",
            "SVD 多样性: 0.8730660118309692\n",
            "Hybrid 推荐多样性: 0.7930187134031946\n"
          ]
        }
      ]
    },
    {
      "cell_type": "markdown",
      "source": [
        "结果展示\n",
        "我们可以通过条形图来展示不同模型的多样性评估结果："
      ],
      "metadata": {
        "id": "InNH0wMB7qSQ"
      }
    },
    {
      "cell_type": "code",
      "source": [
        "import matplotlib.pyplot as plt\n",
        "\n",
        "# 多样性数据\n",
        "models = ['Popularity-based', 'Item-Based CF', 'SVD', 'Hybrid']\n",
        "diversity_scores = [popularity_diversity, item_cf_diversity, svd_diversity, hybrid_diversity]\n",
        "\n",
        "# 绘制图表\n",
        "plt.figure(figsize=(8, 5))\n",
        "plt.bar(models, diversity_scores, color=['blue', 'green', 'red', 'purple'])\n",
        "plt.title(\"Diversity comparison of different recommendation models\")\n",
        "plt.ylabel(\"Diversity\")\n",
        "plt.xlabel(\"Models\")\n",
        "plt.show()"
      ],
      "metadata": {
        "colab": {
          "base_uri": "https://localhost:8080/",
          "height": 444
        },
        "id": "vO1tQIdh7lQi",
        "outputId": "35e9cf13-a56d-4b55-cde8-d6db8e1eac38"
      },
      "execution_count": 63,
      "outputs": [
        {
          "output_type": "display_data",
          "data": {
            "text/plain": [
              "<Figure size 800x500 with 1 Axes>"
            ],
            "image/png": "[encoded data removed]"
          },
          "metadata": {}
        }
      ]
    },
    {
      "cell_type": "markdown",
      "source": [
        "总结\n",
        "通过以上代码，我们计算了 热门推荐、基于物品的协同过滤、SVD 和 混合推荐 四个模型的 多样性。多样性越高，表示推荐的电影之间差异较大，能够提供更多样的推荐结果。"
      ],
      "metadata": {
        "id": "W1Y3-F3Y9JWu"
      }
    },
    {
      "cell_type": "markdown",
      "source": [
        "4️⃣ 计算覆盖率（Coverage）\n",
        "覆盖率是指推荐系统推荐的物品占所有物品的比例。我们可以通过计算推荐列表中物品的数量与所有物品的数量来衡量覆盖率。"
      ],
      "metadata": {
        "id": "nLbrFtpqmR-D"
      }
    },
    {
      "cell_type": "markdown",
      "source": [
        "覆盖率（Coverage） 是评估推荐系统的一个重要指标，指的是推荐系统能够覆盖的电影或物品的比例。具体来说，对于每个模型，我们可以计算它推荐的电影占所有电影的比例。\n",
        "\n",
        "推荐的电影：每个模型生成的推荐列表中的电影。\n",
        "所有电影：数据集中所有可供推荐的电影集合。\n",
        "覆盖率：推荐的电影占所有电影的比例。"
      ],
      "metadata": {
        "id": "NK_GjP298W9b"
      }
    },
    {
      "cell_type": "markdown",
      "source": [
        "计算覆盖率\n",
        "对于每个模型，我们可以计算它推荐的电影数量与总电影数之间的比例。"
      ],
      "metadata": {
        "id": "OXn8HcPb8bnR"
      }
    },
    {
      "cell_type": "code",
      "source": [
        "def calculate_coverage(recommended_items, total_items):\n",
        "    unique_recommended_items = set(recommended_items)\n",
        "    coverage = len(unique_recommended_items) / total_items\n",
        "    return coverage"
      ],
      "metadata": {
        "id": "td9K6tFU8SHE"
      },
      "execution_count": 64,
      "outputs": []
    },
    {
      "cell_type": "markdown",
      "source": [
        "计算每个模型的覆盖率\n",
        "我们为每个模型执行计算："
      ],
      "metadata": {
        "id": "fPTTsE4Q8lwL"
      }
    },
    {
      "cell_type": "code",
      "source": [
        "# 获取所有电影的数量\n",
        "total_items = len(movies)\n",
        "\n",
        "# 模型 1：热门推荐\n",
        "popular_recommendations = popular_movies.index.tolist()\n",
        "popular_coverage = calculate_coverage(popular_recommendations, total_items)\n",
        "print(f\"热门推荐的覆盖率: {popular_coverage:.4f}\")\n",
        "\n",
        "# 模型 2：基于邻域的协同过滤\n",
        "item_based_recommendations = item_based_recommend(user_id=1, top_n=10)\n",
        "item_based_coverage = calculate_coverage(item_based_recommendations.tolist(), total_items)\n",
        "print(f\"基于邻域的协同过滤的覆盖率: {item_based_coverage:.4f}\")\n",
        "\n",
        "# 模型 3：SVD推荐\n",
        "svd_recommendations = svd_recommend(user_id=1, top_n=10)\n",
        "svd_coverage = calculate_coverage(svd_recommendations.tolist(), total_items)\n",
        "print(f\"SVD推荐的覆盖率: {svd_coverage:.4f}\")\n",
        "\n",
        "# 模型 4：混合推荐\n",
        "hybrid_recommendations = hybrid_recommend(user_id=1, top_n=10)\n",
        "hybrid_coverage = calculate_coverage(hybrid_recommendations.tolist(), total_items)\n",
        "print(f\"混合推荐的覆盖率: {hybrid_coverage:.4f}\")"
      ],
      "metadata": {
        "colab": {
          "base_uri": "https://localhost:8080/"
        },
        "id": "0o2VzYxX8TMB",
        "outputId": "fd1dc2e9-3a0c-4155-866d-63a48e39a3a7"
      },
      "execution_count": 65,
      "outputs": [
        {
          "output_type": "stream",
          "name": "stdout",
          "text": [
            "热门推荐的覆盖率: 0.0059\n",
            "基于邻域的协同过滤的覆盖率: 0.0059\n",
            "SVD推荐的覆盖率: 0.0059\n",
            "混合推荐的覆盖率: 0.0059\n"
          ]
        }
      ]
    },
    {
      "cell_type": "code",
      "source": [
        "import matplotlib.pyplot as plt\n",
        "\n",
        "# coverage数据\n",
        "models = ['Popularity-based', 'Item-Based CF', 'SVD', 'Hybrid']\n",
        "coverage_scores = [popular_coverage, item_based_coverage, svd_coverage, hybrid_coverage]\n",
        "\n",
        "# 绘制图表\n",
        "plt.figure(figsize=(8, 5))\n",
        "plt.bar(models, coverage_scores, color=['blue', 'green', 'red', 'purple'])\n",
        "plt.title(\"coverage comparison of different recommendation models\")\n",
        "plt.ylabel(\"coverage\")\n",
        "plt.xlabel(\"Models\")\n",
        "plt.show()"
      ],
      "metadata": {
        "colab": {
          "base_uri": "https://localhost:8080/",
          "height": 434
        },
        "id": "VSbLd6UaAFqh",
        "outputId": "50598aaf-f07e-4022-8429-d32daf9cb895"
      },
      "execution_count": 73,
      "outputs": [
        {
          "output_type": "display_data",
          "data": {
            "text/plain": [
              "<Figure size 800x500 with 1 Axes>"
            ],
            "image/png": "[encoded data removed]"
          },
          "metadata": {}
        }
      ]
    },
    {
      "cell_type": "markdown",
      "source": [
        "解释\n",
        "热门推荐覆盖率：推荐的电影为评分最多的电影。我们计算推荐的电影与数据集中所有电影的比例。\n",
        "基于物品的协同过滤覆盖率：推荐的电影基于与用户喜欢的电影相似的电影。我们计算推荐的电影与所有电影的比例。\n",
        "SVD覆盖率：基于矩阵分解的推荐，推荐用户可能感兴趣的电影。我们计算推荐的电影与所有电影的比例。\n",
        "混合推荐覆盖率：混合了SVD和基于物品的协同过滤的推荐。我们计算推荐的电影与所有电影的比例。\n",
        "总结\n",
        "覆盖率评估为每个模型提供了一个指示，告诉我们推荐系统能够覆盖多少不同的电影，较高的覆盖率意味着推荐系统能够推荐更多样化的电影。"
      ],
      "metadata": {
        "id": "EITym6TF9DMe"
      }
    },
    {
      "cell_type": "markdown",
      "source": [],
      "metadata": {
        "id": "Po8nPlYx7beD"
      }
    },
    {
      "cell_type": "markdown",
      "source": [
        "5️⃣ 计算新颖性（Novelty）\n",
        "新颖性通过计算推荐物品的流行度来评估。冷门物品（评分较少的物品）通常被认为是更具新颖性的物品。我们可以使用 物品流行度 来计算新颖性。"
      ],
      "metadata": {
        "id": "xN8YOdkonDV4"
      }
    },
    {
      "cell_type": "markdown",
      "source": [
        "新颖性评估\n",
        "新颖性（Novelty）是衡量推荐系统推荐的项目（如电影）对于用户而言的“新鲜度”。通常我们认为，推荐的电影越不常见或是用户不曾接触过的电影，其新颖性越高。衡量新颖性的常用方法是通过推荐的电影在所有电影中的流行度（或者评分分布）来评估：推荐电影的流行度越低，表示其越新颖。\n",
        "\n",
        "新颖性评估的核心思路：\n",
        "流行度：定义为电影的平均评分或电影的被评分次数。\n",
        "新颖性：推荐的电影应该是低流行度的电影，也就是推荐的电影在用户的历史评分数据中不太常见，或者是评分次数较少的电影。\n",
        "计算方法：根据电影的流行度（例如电影的评分次数或平均评分），我们为每个模型计算其推荐的电影的平均流行度，流行度越低，新颖性越高。"
      ],
      "metadata": {
        "id": "9bvjPXgN9a7N"
      }
    },
    {
      "cell_type": "markdown",
      "source": [
        "1. 准备工作：计算电影的流行度\n",
        "首先，我们需要计算每个电影的流行度。这里我们可以使用电影的评分次数（或平均评分）来作为流行度的衡量标准。"
      ],
      "metadata": {
        "id": "bBA9LitJ9e5h"
      }
    },
    {
      "cell_type": "code",
      "source": [
        "# 计算每个电影的评分次数（作为流行度指标）\n",
        "movie_popularity = ratings.groupby('title').size()\n",
        "# 计算每个电影的平均评分\n",
        "movie_avg_rating = ratings.groupby('title')['rating'].mean()"
      ],
      "metadata": {
        "id": "bXw9irFE9fsP"
      },
      "execution_count": 66,
      "outputs": []
    },
    {
      "cell_type": "markdown",
      "source": [
        "2. 计算每个模型的推荐电影的平均流行度（即新颖性）\n",
        "接下来，我们计算每个模型推荐的电影的平均流行度。新颖性越高，流行度应该越低。"
      ],
      "metadata": {
        "id": "kHSpMsqT9i-_"
      }
    },
    {
      "cell_type": "code",
      "source": [
        "def calculate_novelty(recommended_items, movie_popularity):\n",
        "    # 计算推荐电影的流行度的平均值\n",
        "    popularity_scores = movie_popularity[recommended_items]\n",
        "    average_popularity = popularity_scores.mean()  # 计算流行度的平均值\n",
        "    return average_popularity"
      ],
      "metadata": {
        "id": "0VZJ4Q2i9pI_"
      },
      "execution_count": 67,
      "outputs": []
    },
    {
      "cell_type": "markdown",
      "source": [
        "评估每个模型的新颖性\n",
        "我们分别为以下四个模型计算新颖性。"
      ],
      "metadata": {
        "id": "t5ClmOHR-DeQ"
      }
    },
    {
      "cell_type": "markdown",
      "source": [
        "1. 热门推荐（Popularity-Based）\n",
        "热门推荐模型推荐的是最流行的电影。因此，它的新颖性较低。我们通过计算其推荐电影的平均评分次数来衡量其新颖性。"
      ],
      "metadata": {
        "id": "SilA7Gof-Kjf"
      }
    },
    {
      "cell_type": "code",
      "source": [
        "# 热门推荐模型\n",
        "popular_recommendations = popular_movies.index.tolist()\n",
        "popular_novelty = calculate_novelty(popular_recommendations, movie_popularity)\n",
        "print(f\"热门推荐的新颖性: {popular_novelty:.4f}\")"
      ],
      "metadata": {
        "colab": {
          "base_uri": "https://localhost:8080/"
        },
        "id": "3C02fGfP-LqR",
        "outputId": "7a576e98-cb25-4505-bdc2-c44ce1712fa4"
      },
      "execution_count": 68,
      "outputs": [
        {
          "output_type": "stream",
          "name": "stdout",
          "text": [
            "热门推荐的新颖性: 486.3000\n"
          ]
        }
      ]
    },
    {
      "cell_type": "markdown",
      "source": [
        "2. 基于邻域的协同过滤（Item-Based Collaborative Filtering）\n",
        "基于物品的协同过滤模型根据电影之间的相似度来推荐电影。我们计算推荐电影的平均流行度（评分次数）。"
      ],
      "metadata": {
        "id": "c7-KlvUT-SqQ"
      }
    },
    {
      "cell_type": "code",
      "source": [
        "# 基于邻域的协同过滤推荐\n",
        "item_based_recommendations = item_based_recommend(user_id=1, top_n=10)\n",
        "item_based_novelty = calculate_novelty(item_based_recommendations.tolist(), movie_popularity)\n",
        "print(f\"基于邻域的协同过滤的新颖性: {item_based_novelty:.4f}\")"
      ],
      "metadata": {
        "colab": {
          "base_uri": "https://localhost:8080/"
        },
        "id": "NZOJbg3z-WgX",
        "outputId": "03449d89-56a1-4de2-916f-059fd9cf1b12"
      },
      "execution_count": 69,
      "outputs": [
        {
          "output_type": "stream",
          "name": "stdout",
          "text": [
            "基于邻域的协同过滤的新颖性: 322.6000\n"
          ]
        }
      ]
    },
    {
      "cell_type": "markdown",
      "source": [
        "3. 矩阵分解（SVD）\n",
        "SVD模型基于用户评分的潜在因子进行推荐。我们同样计算推荐电影的平均流行度。"
      ],
      "metadata": {
        "id": "vBhqm4Yt-XL2"
      }
    },
    {
      "cell_type": "code",
      "source": [
        "# SVD推荐\n",
        "svd_recommendations = svd_recommend(user_id=1, top_n=10)\n",
        "svd_novelty = calculate_novelty(svd_recommendations.tolist(), movie_popularity)\n",
        "print(f\"SVD推荐的新颖性: {svd_novelty:.4f}\")"
      ],
      "metadata": {
        "colab": {
          "base_uri": "https://localhost:8080/"
        },
        "id": "N-uz9bRf-Z6i",
        "outputId": "c74693d5-a436-428f-f07e-cfb2f3117a1d"
      },
      "execution_count": 70,
      "outputs": [
        {
          "output_type": "stream",
          "name": "stdout",
          "text": [
            "SVD推荐的新颖性: 208.1000\n"
          ]
        }
      ]
    },
    {
      "cell_type": "markdown",
      "source": [
        "4. 混合推荐（Hybrid）\n",
        "混合推荐模型结合了SVD和基于邻域的协同过滤的推荐结果。我们计算其推荐电影的平均流行度。"
      ],
      "metadata": {
        "id": "C6r34WZI-dPC"
      }
    },
    {
      "cell_type": "code",
      "source": [
        "# 混合推荐\n",
        "hybrid_recommendations = hybrid_recommend(user_id=1, top_n=10)\n",
        "hybrid_novelty = calculate_novelty(hybrid_recommendations.tolist(), movie_popularity)\n",
        "print(f\"混合推荐的新颖性: {hybrid_novelty:.4f}\")"
      ],
      "metadata": {
        "colab": {
          "base_uri": "https://localhost:8080/"
        },
        "id": "x5wzgeKi-jL3",
        "outputId": "bc854ce8-9c55-4ab9-d79b-7c3ffbb030fb"
      },
      "execution_count": 71,
      "outputs": [
        {
          "output_type": "stream",
          "name": "stdout",
          "text": [
            "混合推荐的新颖性: 217.7000\n"
          ]
        }
      ]
    },
    {
      "cell_type": "code",
      "source": [
        "import matplotlib.pyplot as plt\n",
        "\n",
        "# novelty数据\n",
        "models = ['Popularity-based', 'Item-Based CF', 'SVD', 'Hybrid']\n",
        "novelty_scores = [popular_novelty, item_based_novelty, svd_novelty, hybrid_novelty]\n",
        "\n",
        "# 绘制图表\n",
        "plt.figure(figsize=(8, 5))\n",
        "plt.bar(models, novelty_scores, color=['blue', 'green', 'red', 'purple'])\n",
        "plt.title(\"novelty comparison of different recommendation models\")\n",
        "plt.ylabel(\"novelty\")\n",
        "plt.xlabel(\"Models\")\n",
        "plt.show()"
      ],
      "metadata": {
        "colab": {
          "base_uri": "https://localhost:8080/",
          "height": 442
        },
        "id": "4A3gWX_e_Csw",
        "outputId": "42a51d6a-96d5-4ea3-cb02-ec230fba449e"
      },
      "execution_count": 72,
      "outputs": [
        {
          "output_type": "display_data",
          "data": {
            "text/plain": [
              "<Figure size 800x500 with 1 Axes>"
            ],
            "image/png": "[encoded data removed]"
          },
          "metadata": {}
        }
      ]
    },
    {
      "cell_type": "markdown",
      "source": [
        "解释：\n",
        "新颖性的评估是基于推荐电影的流行度（评分次数或平均评分）来衡量的。流行度较低的电影表示较新颖。\n",
        "热门推荐：由于推荐的是最受欢迎的电影，因此其新颖性较低，流行度较高。\n",
        "基于邻域的协同过滤：推荐的是与用户喜欢的电影相似的电影，其新颖性取决于这些相似电影的流行度。\n",
        "SVD推荐：推荐的是基于矩阵分解的电影，这些电影可能是用户未曾接触过的，具有一定的新颖性。\n",
        "混合推荐：结合了SVD和基于邻域的协同过滤，其新颖性取决于两者的融合程度。"
      ],
      "metadata": {
        "id": "t6ulcCVK-oog"
      }
    },
    {
      "cell_type": "markdown",
      "source": [
        "hybrid\n",
        "pkl\n"
      ],
      "metadata": {
        "id": "_YguP-RZWisi"
      }
    },
    {
      "cell_type": "code",
      "source": [
        "import pickle\n",
        "# 3️⃣ 保存电影ID与标题映射 (movie_dict.pkl)\n",
        "movie_dict = movies.set_index('item_id')['title'].to_dict()\n",
        "with open('movie_dict.pkl', 'wb') as f:\n",
        "    pickle.dump(movie_dict, f)\n",
        "print(\"✅ 已保存 movie_dict.pkl\")\n",
        "\n",
        "# 4️⃣ 计算物品相似度矩阵 (similarity.pkl)\n",
        "item_similarity = cosine_similarity(user_item_matrix.T)\n",
        "item_similarity_df = pd.DataFrame(item_similarity, index=user_item_matrix.columns, columns=user_item_matrix.columns)\n",
        "with open('similarity.pkl', 'wb') as f:\n",
        "    pickle.dump(item_similarity_df, f)\n",
        "print(\"✅ 已保存 similarity.pkl\")"
      ],
      "metadata": {
        "colab": {
          "base_uri": "https://localhost:8080/"
        },
        "id": "w7pLyKynVmcF",
        "outputId": "ac712cba-aa58-4a4f-99e4-a887f4071c66"
      },
      "execution_count": 78,
      "outputs": [
        {
          "output_type": "stream",
          "name": "stdout",
          "text": [
            "✅ 已保存 movie_dict.pkl\n",
            "✅ 已保存 similarity.pkl\n"
          ]
        }
      ]
    },
    {
      "cell_type": "code",
      "source": [
        "import pickle # Add import statement for the pickle module\n",
        "\n",
        "# 6️⃣ 保存模型\n",
        "model_data = {\n",
        "    'pred_df': pred_df,\n",
        "    'item_similarity_df': item_similarity_df,\n",
        "    'movies': movies,\n",
        "    'user_item_matrix': user_item_matrix\n",
        "}\n",
        "\n",
        "with open('hybrid_model.pkl', 'wb') as f:\n",
        "    pickle.dump(model_data, f)\n",
        "\n",
        "print(\"✅ Hybrid 推荐模型已保存！\")"
      ],
      "metadata": {
        "colab": {
          "base_uri": "https://localhost:8080/"
        },
        "id": "wwDumkzRZ6xi",
        "outputId": "271ef930-600f-4ebd-8a03-71bdc91f77d0"
      },
      "execution_count": 77,
      "outputs": [
        {
          "output_type": "stream",
          "name": "stdout",
          "text": [
            "✅ Hybrid 推荐模型已保存！\n"
          ]
        }
      ]
    },
    {
      "cell_type": "code",
      "source": [
        "# 启动 Flask + Ngrok\n",
        "from pyngrok import ngrok\n",
        "ngrok.set_auth_token(\"2qbOSr2wuRpHZoOBEk6GUQ6voiY_5Hkt6cev3Eqks2FqmcbxX\")  # 替换为你的 Ngrok Token\n",
        "public_url = ngrok.connect(addr=8501)\n",
        "print(f\"🔗 公网地址：{public_url}\")\n",
        "#app.run(port=5000)"
      ],
      "metadata": {
        "colab": {
          "base_uri": "https://localhost:8080/"
        },
        "id": "0uRtbX7ajpRL",
        "outputId": "a82714b7-bd70-4688-b14e-57e1ddeba34e"
      },
      "execution_count": 94,
      "outputs": [
        {
          "output_type": "stream",
          "name": "stdout",
          "text": [
            "🔗 公网地址：NgrokTunnel: \"https://4094-35-196-217-140.ngrok-free.app\" -> \"http://localhost:8501\"\n"
          ]
        }
      ]
    }
  ]
}