{
  "nbformat": 4,
  "nbformat_minor": 0,
  "metadata": {
    "colab": {
      "provenance": [],
      "authorship_tag": "ABX9TyOUz/Mx44f94U6TP2oVuDV1",
      "include_colab_link": true
    },
    "kernelspec": {
      "name": "python3",
      "display_name": "Python 3"
    },
    "language_info": {
      "name": "python"
    }
  },
  "cells": [
    {
      "cell_type": "markdown",
      "metadata": {
        "id": "view-in-github",
        "colab_type": "text"
      },
      "source": [
        "<a href=\"https://colab.research.google.com/github/SONG-0502/1st-pap/blob/main/%E5%8D%8F%E5%90%8C%E8%BF%87%E6%BB%A4.ipynb\" target=\"_parent\"><img src=\"https://colab.research.google.com/assets/colab-badge.svg\" alt=\"Open In Colab\"/></a>"
      ]
    },
    {
      "cell_type": "markdown",
      "source": [
        "电影推荐系统 - 使用“ml-100k”数据集实现协同过滤，并生成pkl文件并评估\n",
        "我们将使用 MovieLens 100K 数据集 来实现一个基于协同过滤的电影推荐系统。整个过程分为以下几个步骤：\n",
        "\n",
        "加载和预处理数据：加载 MovieLens 100K 数据集（包含评分、电影信息等），并构建用户-电影评分矩阵。\n",
        "实现协同过滤：使用用户-电影评分矩阵计算电影之间的相似度（物品协同过滤）。\n",
        "推荐系统实现：通过计算电影之间的相似度来推荐相似的电影。\n",
        "模型保存：使用 pickle 将协同过滤的推荐模型和相似度矩阵保存为 .pkl 文件。\n",
        "评估推荐系统：通过精确度（Precision）、召回率（Recall）等评估推荐系统的效果。\n",
        "1. 数据集概述\n",
        "数据文件：\n",
        "u.data：用户对电影的评分数据，包含字段：userId，movieId，rating，timestamp。\n",
        "u.item：电影的详细信息，包含字段：movieId，title，release date，video release date等。\n",
        "u.user：用户的详细信息，包含字段：userId，age，gender，occupation，zip code等。\n",
        "我们将使用 u.data 和 u.item 来构建推荐系统。\n",
        "\n"
      ],
      "metadata": {
        "id": "ywh6bMDMjpT4"
      }
    },
    {
      "cell_type": "code",
      "execution_count": 5,
      "metadata": {
        "colab": {
          "base_uri": "https://localhost:8080/"
        },
        "id": "HFvtCGVSjO4j",
        "outputId": "078f4a93-a523-49c0-b256-51615f296b44"
      },
      "outputs": [
        {
          "output_type": "stream",
          "name": "stdout",
          "text": [
            "评分数据行数: 100000\n",
            "电影数据行数: 1682\n",
            "根据电影《Star Wars (1977)》推荐的10部电影：\n",
            "1. Return of the Jedi (1983)\n",
            "2. Raiders of the Lost Ark (1981)\n",
            "3. Empire Strikes Back, The (1980)\n",
            "4. Toy Story (1995)\n",
            "5. Godfather, The (1972)\n",
            "6. Independence Day (ID4) (1996)\n",
            "7. Indiana Jones and the Last Crusade (1989)\n",
            "8. Fargo (1996)\n",
            "9. Silence of the Lambs, The (1991)\n",
            "10. Star Trek: First Contact (1996)\n",
            "推荐系统的RMSE: 2.950193296897328\n"
          ]
        }
      ],
      "source": [
        "import pandas as pd\n",
        "import numpy as np\n",
        "from sklearn.metrics.pairwise import cosine_similarity\n",
        "from sklearn.metrics import mean_squared_error\n",
        "from math import sqrt\n",
        "import pickle\n",
        "\n",
        "# 1. 数据加载与预处理\n",
        "\n",
        "# 读取MovieLens 100k 数据集文件\n",
        "rating_data_path = \"ml-100k/u.data\"\n",
        "movie_data_path = \"ml-100k/u.item\"\n",
        "\n",
        "# 读取评分数据\n",
        "columns = ['userId', 'movieId', 'rating', 'timestamp']\n",
        "ratings = pd.read_csv(rating_data_path, sep='\\t', names=columns, encoding='latin-1')\n",
        "\n",
        "# 读取电影信息\n",
        "movie_columns = ['movieId', 'title']\n",
        "movies = pd.read_csv(movie_data_path, sep='|', names=movie_columns, encoding='latin-1', usecols=[0, 1])\n",
        "\n",
        "# 查看数据基本信息\n",
        "print(f\"评分数据行数: {ratings.shape[0]}\")\n",
        "print(f\"电影数据行数: {movies.shape[0]}\")\n",
        "\n",
        "# 2. 构建用户-电影评分矩阵\n",
        "movie_user_matrix = ratings.pivot_table(index='userId', columns='movieId', values='rating')\n",
        "\n",
        "# 3. 计算电影之间的余弦相似度（基于物品的协同过滤）\n",
        "movie_user_matrix_filled = movie_user_matrix.fillna(0)  # 用0填充空值\n",
        "\n",
        "# 计算余弦相似度矩阵，注意这里是计算电影-电影相似度\n",
        "cosine_sim = cosine_similarity(movie_user_matrix_filled.T)\n",
        "\n",
        "# 4. 保存模型和相似度矩阵\n",
        "movie_titles = movies.set_index('movieId')['title'].to_dict()\n",
        "pickle.dump(movie_titles, open(\"movie_titles.pkl\", \"wb\"))\n",
        "pickle.dump(cosine_sim, open(\"cosine_sim.pkl\", \"wb\"))\n",
        "\n",
        "# 5. 推荐函数（基于物品协同过滤）\n",
        "def recommend_movie(movie_title, top_n=10):\n",
        "    \"\"\"\n",
        "    根据电影名称推荐相似的电影\n",
        "    \"\"\"\n",
        "    # 获取电影ID\n",
        "    movie_idx = movies[movies['title'].str.lower() == movie_title.lower()].index[0]\n",
        "\n",
        "    # 获取该电影的相似度分数\n",
        "    sim_scores = list(enumerate(cosine_sim[movie_idx]))\n",
        "\n",
        "    # 排序并获取最相似的前N个电影\n",
        "    sim_scores = sorted(sim_scores, key=lambda x: x[1], reverse=True)\n",
        "    sim_scores = sim_scores[1:top_n+1]  # 排除自己\n",
        "\n",
        "    # 获取推荐电影标题\n",
        "    # Add 1 to the movie index to align with movie_titles keys\n",
        "    recommended_movies = [movie_titles[i[0] + 1] for i in sim_scores]\n",
        "    return recommended_movies\n",
        "\n",
        "# 测试推荐系统\n",
        "movie_name = \"Star Wars (1977)\"\n",
        "recommended_movies = recommend_movie(movie_name, top_n=10)\n",
        "print(f\"根据电影《{movie_name}》推荐的10部电影：\")\n",
        "for idx, movie in enumerate(recommended_movies, 1):\n",
        "    print(f\"{idx}. {movie}\")\n",
        "\n",
        "# 6. 推荐系统的评估\n",
        "# 我们使用均方根误差（RMSE）来评估推荐系统的效果\n",
        "\n",
        "# 获取所有用户对电影的评分\n",
        "ratings = pd.read_csv(rating_data_path, sep='\\t', names=columns, encoding='latin-1')\n",
        "\n",
        "# 创建一个评分矩阵（用户-电影矩阵）\n",
        "ratings_matrix = ratings.pivot(index='userId', columns='movieId', values='rating')\n",
        "\n",
        "# 计算预测评分\n",
        "# Transpose ratings_matrix to align dimensions for dot product\n",
        "predicted_ratings = cosine_sim.dot(ratings_matrix.fillna(0).T) / np.abs(cosine_sim).sum(axis=1)[:, np.newaxis]\n",
        "\n",
        "# 将预测评分矩阵转换为DataFrame\n",
        "# Transpose predicted_ratings back to original orientation\n",
        "predicted_ratings_df = pd.DataFrame(predicted_ratings.T, columns=ratings_matrix.columns, index=ratings_matrix.index)\n",
        "\n",
        "# 计算均方根误差（RMSE）\n",
        "# 真实评分\n",
        "true_ratings = ratings_matrix.values\n",
        "# 预测评分\n",
        "predicted_ratings = predicted_ratings_df.values\n",
        "\n",
        "# 计算RMSE\n",
        "mse = mean_squared_error(true_ratings[true_ratings > 0], predicted_ratings[true_ratings > 0])\n",
        "rmse = sqrt(mse)\n",
        "print(f\"推荐系统的RMSE: {rmse}\")\n"
      ]
    }
  ]
}